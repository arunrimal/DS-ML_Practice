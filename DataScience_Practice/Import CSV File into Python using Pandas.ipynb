{
 "cells": [
  {
   "cell_type": "markdown",
   "metadata": {},
   "source": [
    "# Create a GUI to import a CSV file into Python \n"
   ]
  },
  {
   "cell_type": "code",
   "execution_count": 1,
   "metadata": {},
   "outputs": [],
   "source": [
    "import pandas as pd\n",
    "import tkinter as tk  #tkinter package is used to create GUI\n",
    "from tkinter import filedialog"
   ]
  },
  {
   "cell_type": "code",
   "execution_count": 2,
   "metadata": {},
   "outputs": [],
   "source": [
    "root=tk.Tk()"
   ]
  },
  {
   "cell_type": "code",
   "execution_count": 3,
   "metadata": {},
   "outputs": [],
   "source": [
    "canvas1=tk.Canvas(root,width=300,height=300,bg='lightsteelblue2',relief='raised')\n",
    "canvas1.pack()"
   ]
  },
  {
   "cell_type": "code",
   "execution_count": 4,
   "metadata": {},
   "outputs": [
    {
     "name": "stdout",
     "output_type": "stream",
     "text": [
      "  Client Name  Country    Product  Purchase Price\n",
      "0   Jon Smith    Japan   Computer        $800.00 \n",
      "1   Bil Martin      US      Tablet       $450.00 \n",
      "2   Maria Blue   Canada   Printer        $150.00 \n",
      "3      Rita Yu   Brazil     Laptop     $1,200.00 \n",
      "4      Jack Mo       UK   Monitor        $300.00 \n",
      "5    Ron Green    Spain     Laptop     $1,200.00 \n",
      "6   Jeff Long     China     Laptop     $1,200.00 \n",
      "7   Carrie Lan    Italy  Computer        $800.00 \n",
      "8    Marry Sig     Peru  Computer        $800.00 \n",
      "9    Ben Baker   Russia   Printer        $150.00 \n"
     ]
    }
   ],
   "source": [
    "def getCSV():\n",
    "    global df\n",
    "    \n",
    "    import_file_path = filedialog.askopenfilename()\n",
    "    df=pd.read_csv(import_file_path)\n",
    "    print (df)\n",
    "\n",
    "browseButton_CSV = tk.Button(text=\"  Import CSV File  \",command=getCSV,bg='green',fg='white',font=('helvetica',12,'bold'))  #here command is given as get file\n",
    "canvas1.create_window(150,150,window=browseButton_CSV)\n",
    "\n",
    "root.mainloop()"
   ]
  },
  {
   "cell_type": "markdown",
   "metadata": {},
   "source": [
    "# Create a GUI to import a csv file that has Variable Name"
   ]
  },
  {
   "cell_type": "code",
   "execution_count": 15,
   "metadata": {},
   "outputs": [],
   "source": [
    "import pandas as pd\n",
    "from pandas import DataFrame\n",
    "import tkinter as tk  #tkinter package is used to create GUI\n",
    "from tkinter import filedialog"
   ]
  },
  {
   "cell_type": "code",
   "execution_count": 16,
   "metadata": {},
   "outputs": [],
   "source": [
    "root=tk.Tk()"
   ]
  },
  {
   "cell_type": "code",
   "execution_count": 17,
   "metadata": {},
   "outputs": [
    {
     "name": "stdout",
     "output_type": "stream",
     "text": [
      "   Client Name  Country  Product Purchase Price\n",
      "0          NaN      NaN      NaN       $800.00 \n",
      "1          NaN      NaN      NaN       $450.00 \n",
      "2          NaN      NaN      NaN       $150.00 \n",
      "3          NaN      NaN      NaN     $1,200.00 \n",
      "4          NaN      NaN      NaN       $300.00 \n",
      "5          NaN      NaN      NaN     $1,200.00 \n",
      "6          NaN      NaN      NaN     $1,200.00 \n",
      "7          NaN      NaN      NaN       $800.00 \n",
      "8          NaN      NaN      NaN       $800.00 \n",
      "9          NaN      NaN      NaN       $150.00 \n"
     ]
    }
   ],
   "source": [
    "canvas1=tk.Canvas(root,width=300,height=300)    #create the Canvas\n",
    "canvas1.pack()\n",
    "\n",
    "entry1=tk.Entry(root)  #create the entry box\n",
    "canvas1.create_window(150,100,window=entry1)\n",
    "\n",
    "def insert_number():       # add a function/command to be called by the button (i.e., button1 below)\n",
    "    global x1    #add 'global' before the variable x1, so that you can use that variable outside of the command/function if ever needed\n",
    "    x1=str(entry1.get()) #store the data input by the user as a variable x1\n",
    "    \n",
    "    PATH = r'/home/arun/XDataDisk/DS_&_ML/DS_&_ML_Learning/Sales_'+x1+'.csv'   # (use \"r\" before the path string to address special character, such as '\\'). Don't forget to to put the fiel name at the end of the path +'.csv'\n",
    "    read_sales = pd.read_csv (PATH)  #read the csv file using the 'PATH' variable\n",
    "    df = DataFrame(read_sales, columns=['Client Name','Country','Product','Purchase Price'])\n",
    "    print (df)\n",
    "\n",
    "button1=tk.Button(root,text='Input date to import file(mmddyyyy)',command=insert_number,bg='green',fg='white')   #button to call the 'insert_number' command above\n",
    "canvas1.create_window(150,140,window=button1)\n",
    "\n",
    "root.mainloop()\n"
   ]
  },
  {
   "cell_type": "code",
   "execution_count": 18,
   "metadata": {},
   "outputs": [
    {
     "data": {
      "text/plain": [
       "''"
      ]
     },
     "execution_count": 18,
     "metadata": {},
     "output_type": "execute_result"
    }
   ],
   "source": [
    "_"
   ]
  },
  {
   "cell_type": "code",
   "execution_count": null,
   "metadata": {},
   "outputs": [],
   "source": []
  }
 ],
 "metadata": {
  "kernelspec": {
   "display_name": "Python 3",
   "language": "python",
   "name": "python3"
  },
  "language_info": {
   "codemirror_mode": {
    "name": "ipython",
    "version": 3
   },
   "file_extension": ".py",
   "mimetype": "text/x-python",
   "name": "python",
   "nbconvert_exporter": "python",
   "pygments_lexer": "ipython3",
   "version": "3.8.10"
  }
 },
 "nbformat": 4,
 "nbformat_minor": 4
}
